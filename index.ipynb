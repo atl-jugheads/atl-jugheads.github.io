{
 "cells": [
  {
   "cell_type": "markdown",
   "metadata": {},
   "source": [
    "![](https://avatars2.githubusercontent.com/u/33355442?s=200&v=4)\n",
    "\n",
    "\n",
    "# [Atlanta Jupyter User Group Meetings]()\n",
    "\n",
    "The __Atlanta Jupyter User Group__ is a local community of designers, developers and scientists using [Jupyter](http://jupyter.org/) notebooks. \n",
    "\n",
    "The user group meetings are afforable events that host 40-50 Jupyter users from the nearby Atlanta Metro Area.  They will attract designers, developers, and scientists solving problems in applications that include:\n",
    "\n",
    "- Education and training\n",
    "- Public health, medicine, and bioinformatics\n",
    "- Math, Science and, Engineering\n",
    "- Art, music, and making\n",
    "- Journalism, law, and policy\n",
    "- Visualization, UI, and UX"
   ]
  },
  {
   "cell_type": "code",
   "execution_count": 10,
   "metadata": {},
   "outputs": [
    {
     "data": {
      "text/markdown": [
       "# Upcoming Events\n",
       "\n",
       "* [Jupyter Users Group Meeting One](/one)"
      ],
      "text/plain": [
       "<IPython.core.display.Markdown object>"
      ]
     },
     "metadata": {},
     "output_type": "display_data"
    }
   ],
   "source": [
    "# Upcoming Events\n",
    "\n",
    "* [Jupyter Users Group Meeting One](/one)"
   ]
  },
  {
   "cell_type": "markdown",
   "metadata": {},
   "source": [
    "---\n",
    "\n",
    "# News\n",
    "\n",
    "## We can [accept one more proposal for November](https://docs.google.com/forms/d/e/1FAIpQLSfY1c4y2vLE-q3VMBjOpvTi4pK5D6Q9KudNk25AsxQUjsT3eA/viewform)\n",
    "\n",
    "Currently we are preparing for the [**premiere Atlanta Jupyter User Group Meeting on November 11, 2017 at Georgia Tech Research Institute**](https://callisto-morns.github.io/one/) from 9am to 1pm.  We currently have a [Call for Participation](https://docs.google.com/forms/d/e/1FAIpQLSfY1c4y2vLE-q3VMBjOpvTi4pK5D6Q9KudNk25AsxQUjsT3eA/viewform) out and encourage anyone to submit their work as long as Project Jupyter plays a role."
   ]
  },
  {
   "cell_type": "markdown",
   "metadata": {},
   "source": [
    "# Staying in touch\n",
    "\n",
    "[![Gitter chat](https://badges.gitter.im/callisto-one/Lobby.png)](https://gitter.im/callisto-one/Lobby)\n",
    "\n",
    "* Visit the the [Atlanta Jupyter User Group Meeting](https://callisto-morns.github.io/) site for updates.\n",
    "* [Ask questions!](https://github.com/callisto-morns/one/issues)\n",
    "* [Submit a talk.](https://docs.google.com/forms/d/e/1FAIpQLSfY1c4y2vLE-q3VMBjOpvTi4pK5D6Q9KudNk25AsxQUjsT3eA/viewform)"
   ]
  },
  {
   "cell_type": "markdown",
   "metadata": {},
   "source": [
    "---\n",
    "\n",
    "# About [Project Jupyter]()\n",
    "\n",
    "![](http://jupyter.org/assets/main-logo.svg)\n",
    "\n",
    "> \"Open source, interactive data science and scientific computing across over 40 programming languages\"\n",
    "> > jupyter.org\n",
    "\n",
    "Project Jupyter is all about bringing today’s best open source software to anyone that needs to work with data. You can try the Notebook, Jupyter's web-based exploratory computing environment, today through free online services like SageMathCloud and Binder.  Or, Jupyter can be easily installed on your personal Linux, OSX or Windows computer. If you support many users, JupyterHub can bring your compute resources and data to your users and groups with a powerful, familiar user experience."
   ]
  },
  {
   "cell_type": "code",
   "execution_count": 11,
   "metadata": {},
   "outputs": [
    {
     "data": {
      "text/markdown": [
       "    !jupyter nbconvert --to markdown index.ipynb faq.ipynb\n",
       "    !cp index.md readme.md\n",
       "    %reload_ext literacy"
      ],
      "text/plain": [
       "<IPython.core.display.Markdown object>"
      ]
     },
     "metadata": {},
     "output_type": "display_data"
    },
    {
     "name": "stdout",
     "output_type": "stream",
     "text": [
      "[NbConvertApp] Converting notebook index.ipynb to markdown\r\n",
      "[NbConvertApp] Writing 4019 bytes to index.md\r\n",
      "[NbConvertApp] Converting notebook faq.ipynb to markdown\r\n",
      "[NbConvertApp] Writing 1010 bytes to faq.md\r\n"
     ]
    }
   ],
   "source": [
    "    !jupyter nbconvert --to markdown index.ipynb faq.ipynb\n",
    "    !cp index.md readme.md\n",
    "    %reload_ext literacy"
   ]
  },
  {
   "cell_type": "markdown",
   "metadata": {},
   "source": [
    "# Frequently Asked Questions"
   ]
  },
  {
   "cell_type": "code",
   "execution_count": 11,
   "metadata": {},
   "outputs": [
    {
     "data": {
      "text/markdown": [
       "\n",
       "### Should I Participate?\n",
       "\n",
       "Atlanta Jupyter User Group Meeting are inclusive events for designers, developers, and scientists who:\n",
       "\n",
       "* Work with data.\n",
       "* Teach math, science, or engineering.\n",
       "* Publish, present, or share their work with others.  \n",
       "* Interested in open source software even in the slightest.\n",
       "\n",
       "### Why are there fees?\n",
       "\n",
       "Community doesn't mature properly with free events.  And hot krispy kreme donuts aren't free.\n",
       "    \n",
       "\n",
       "### Why is there an Atlanta Jupyter User's Group?\n",
       "\n",
       "Jupyter is a diverse piece of software that supplies value in different domains and programming languages.  The Atlanta Jupyter User Group Meeting uses Jupyter as a medium to bring people together and blend ideas across the diverse tecnology space in the Atlanta Metro region.\n",
       "\n",
       "### Can I Use Reuse This Source?\n",
       "\n",
       "This source code is intended to be a Jupyter notebook specific means of organizing events. After the first event, there will be a first a release of this tool; which will be used for the second event on Dec 16, 2017.\n"
      ],
      "text/plain": [
       "<IPython.core.display.Markdown object>"
      ]
     },
     "metadata": {},
     "output_type": "display_data"
    }
   ],
   "source": [
    "faq.md"
   ]
  },
  {
   "cell_type": "markdown",
   "metadata": {},
   "source": [
    "### Prior Events\n",
    "\n",
    "* [Jupyter Day Atlanta 2016](http://jupyterday-atlanta-2016.github.io)"
   ]
  },
  {
   "cell_type": "raw",
   "metadata": {},
   "source": [
    "<style>\n",
    ".highlighter-rouge, code {display: none;}\n",
    ".markdown-body h1:first-child {\n",
    "    display: none;\n",
    "}\n",
    "</style>"
   ]
  },
  {
   "cell_type": "code",
   "execution_count": null,
   "metadata": {},
   "outputs": [],
   "source": []
  }
 ],
 "metadata": {
  "kernelspec": {
   "display_name": "Python 3",
   "language": "python",
   "name": "python3"
  },
  "language_info": {
   "codemirror_mode": {
    "name": "ipython",
    "version": 3
   },
   "file_extension": ".py",
   "mimetype": "text/x-python",
   "name": "python",
   "nbconvert_exporter": "python",
   "pygments_lexer": "ipython3",
   "version": "3.5.3"
  }
 },
 "nbformat": 4,
 "nbformat_minor": 2
}
