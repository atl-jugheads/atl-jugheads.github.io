{
 "cells": [
  {
   "cell_type": "markdown",
   "metadata": {},
   "source": [
    "# Callisto M☾rns\n",
    "\n",
    "Callisto M☾rns are local Atlanta conferences orbitting the Project Jupyter.  This event will host 40-50 Jupyter users from nearby the Atlanta Metro Area.  These events will attract designers, developers, and scientists solving problems in applications that include:\n",
    "\n",
    "- Education and training\n",
    "- Public health, medicine, and bioinformatics\n",
    "- Math, Science and, Engineering\n",
    "- Art, music, and making\n",
    "- Journalism, law, and policy\n",
    "- Visualization, UI, and UX"
   ]
  },
  {
   "cell_type": "markdown",
   "metadata": {},
   "source": [
    "## In the works\n",
    "\n",
    "Currently we are preparing for the [**premiere Callist☾ M☾rn on November 11, 2017 at Georgia Tech Research Institute**](https://callisto-morns.github.io/1/).  "
   ]
  },
  {
   "cell_type": "markdown",
   "metadata": {},
   "source": [
    "---\n",
    "\n",
    "## Currently\n",
    "\n",
    "We have a [Call for Participation]().  We encourage anyone to submit their work as long as Project Jupyter plays a role.\n",
    "\n",
    "---\n",
    "\n",
    "Be ok the l👀k out for 🎟tickets🎟 in the new few weeks."
   ]
  },
  {
   "cell_type": "markdown",
   "metadata": {},
   "source": [
    "---\n",
    "\n",
    "# Project Jupyter\n",
    "\n",
    "> \"Open source, interactive data science and scientific computing across over 40 programming languages\"\n",
    "> > jupyter.org\n",
    "\n",
    "Project Jupyter is all about bringing today’s best open source software to anyone that needs to work with data. You can try the Notebook, Jupyter's web-based exploratory computing environment, today through free online services like SageMathCloud[1] and Binder[2].  Or, Jupyter can be easily installed[3] on your personal Linux, OSX or Windows computer. If you support many users, JupyterHub[4] can bring your compute resources and data to your users and groups with a powerful, familiar user experience."
   ]
  },
  {
   "cell_type": "code",
   "execution_count": 22,
   "metadata": {},
   "outputs": [
    {
     "name": "stdout",
     "output_type": "stream",
     "text": [
      "[NbConvertApp] Converting notebook index.ipynb to markdown\n",
      "[NbConvertApp] Writing 1503 bytes to index.md\n"
     ]
    }
   ],
   "source": [
    "    !jupyter nbconvert --to markdown --TemplateExporter.exclude_code_cell=True index.ipynb"
   ]
  }
 ],
 "metadata": {
  "kernelspec": {
   "display_name": "Python 3",
   "language": "python",
   "name": "python3"
  },
  "language_info": {
   "codemirror_mode": {
    "name": "ipython",
    "version": 3
   },
   "file_extension": ".py",
   "mimetype": "text/x-python",
   "name": "python",
   "nbconvert_exporter": "python",
   "pygments_lexer": "ipython3",
   "version": "3.5.3"
  }
 },
 "nbformat": 4,
 "nbformat_minor": 2
}
