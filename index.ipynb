{
 "cells": [
  {
   "cell_type": "code",
   "execution_count": 1,
   "metadata": {},
   "outputs": [],
   "source": [
    "%reload_ext literacy"
   ]
  },
  {
   "cell_type": "code",
   "execution_count": 2,
   "metadata": {},
   "outputs": [
    {
     "data": {
      "text/markdown": [
       "![](https://avatars2.githubusercontent.com/u/33355442?s=200&v=4)\n",
       "\n",
       "<a href=\"https://twitter.com/jupyteratlanta?ref_src=twsrc%5Etfw\" class=\"twitter-follow-button\" data-size=\"large\" data-show-count=\"false\">Follow @jupyteratlanta</a><script async src=\"https://platform.twitter.com/widgets.js\" data-size=\"large\" charset=\"utf-8\"></script>\n",
       "\n",
       "# [Atlanta Jupyter User Group](https://www.meetup.com/Atlanta-Jupyter-User-Group/)\n",
       "\n",
       "The __Atlanta Jupyter User Group__ is a local community of designers, developers and scientists using [Jupyter](http://jupyter.org/) notebooks. \n",
       "\n",
       "The user group meetings are afforable events that host 40-50 Jupyter users from the nearby Atlanta Metro Area.  They will attract designers, developers, and scientists solving problems in applications that include:\n",
       "\n",
       "- Education and training\n",
       "- Public health, medicine, and bioinformatics\n",
       "- Math, Science and, Engineering\n",
       "- Art, music, and making\n",
       "- Journalism, law, and policy\n",
       "- Visualization, UI, and UX"
      ],
      "text/plain": [
       "<IPython.core.display.Markdown object>"
      ]
     },
     "metadata": {},
     "output_type": "display_data"
    }
   ],
   "source": [
    "![](https://avatars2.githubusercontent.com/u/33355442?s=200&v=4)\n",
    "\n",
    "<a href=\"https://twitter.com/jupyteratlanta?ref_src=twsrc%5Etfw\" class=\"twitter-follow-button\" data-size=\"large\" data-show-count=\"false\">Follow @jupyteratlanta</a><script async src=\"https://platform.twitter.com/widgets.js\" data-size=\"large\" charset=\"utf-8\"></script>\n",
    "\n",
    "# [Atlanta Jupyter User Group](https://www.meetup.com/Atlanta-Jupyter-User-Group/)\n",
    "\n",
    "The __Atlanta Jupyter User Group__ is a local community of designers, developers and scientists using [Jupyter](http://jupyter.org/) notebooks. \n",
    "\n",
    "The user group meetings are afforable events that host 40-50 Jupyter users from the nearby Atlanta Metro Area.  They will attract designers, developers, and scientists solving problems in applications that include:\n",
    "\n",
    "- Education and training\n",
    "- Public health, medicine, and bioinformatics\n",
    "- Math, Science and, Engineering\n",
    "- Art, music, and making\n",
    "- Journalism, law, and policy\n",
    "- Visualization, UI, and UX"
   ]
  },
  {
   "cell_type": "markdown",
   "metadata": {},
   "source": [
    "# Upcoming Events\n",
    "\n",
    "* [Ten things your didn't know about Jupyter](www.materials.gatech.edu/event/materials-seminar-featuring-dr-tony-fast)\n",
    "* [Jupyter Day Atlanta on March 31](https://atl-jugheads.github.io/jupyter-day-atlanta-ii/)"
   ]
  },
  {
   "cell_type": "markdown",
   "metadata": {},
   "source": [
    "# Past Events\n",
    "\n",
    "* [Jupyter Users Group Meeting Three](https://www.meetup.com/Atlanta-Jupyter-User-Group/events/246623197/)\n",
    "* [Jupyter Users Group Meeting Two](https://www.meetup.com/Atlanta-Jupyter-User-Group/events/245257288/)\n",
    "* [Jupyter Users Group Meeting One](https://www.eventbrite.com/e/atlanta-jupyter-users-group-meeting-tickets-39268778975)\n",
    "* [Jupyter Day Atlanta 2016](http://jupyterday-atlanta-2016.github.io)"
   ]
  },
  {
   "cell_type": "code",
   "execution_count": 3,
   "metadata": {},
   "outputs": [
    {
     "data": {
      "text/markdown": [
       "# Staying in touch\n",
       "\n",
       "[![Gitter chat](https://badges.gitter.im/atl-jugheads/Lobby.png)](https://gitter.im/atl-jugheads/Lobby)\n",
       "\n",
       "* Visit the the [Atlanta Jupyter User Group Meeting](https://atl-jugheads.github.io) site for updates.\n",
       "* [Ask questions!](https://github.com/atl-jugheads/atl-jugheads.github.io/issues)\n",
       "* [Submit a talk.](https://docs.google.com/forms/d/e/1FAIpQLSfY1c4y2vLE-q3VMBjOpvTi4pK5D6Q9KudNk25AsxQUjsT3eA/viewform)"
      ],
      "text/plain": [
       "<IPython.core.display.Markdown object>"
      ]
     },
     "metadata": {},
     "output_type": "display_data"
    }
   ],
   "source": [
    "# Staying in touch\n",
    "\n",
    "[![Gitter chat](https://badges.gitter.im/atl-jugheads/Lobby.png)](https://gitter.im/atl-jugheads/Lobby)\n",
    "\n",
    "* Visit the the [Atlanta Jupyter User Group Meeting](https://atl-jugheads.github.io) site for updates.\n",
    "* [Ask questions!](https://github.com/atl-jugheads/atl-jugheads.github.io/issues)\n",
    "* [Submit a talk.](https://docs.google.com/forms/d/e/1FAIpQLSfY1c4y2vLE-q3VMBjOpvTi4pK5D6Q9KudNk25AsxQUjsT3eA/viewform)"
   ]
  },
  {
   "cell_type": "markdown",
   "metadata": {},
   "source": [
    "---\n",
    "\n",
    "# About [Project Jupyter]()\n",
    "\n",
    "![](http://jupyter.org/assets/main-logo.svg)\n",
    "\n",
    "> \"Open source, interactive data science and scientific computing across over 40 programming languages\"\n",
    "> > jupyter.org\n",
    "\n",
    "Project Jupyter is all about bringing today’s best open source software to anyone that needs to work with data. You can try the Notebook, Jupyter's web-based exploratory computing environment, today through free online services like SageMathCloud and Binder.  Or, Jupyter can be easily installed on your personal Linux, OSX or Windows computer. If you support many users, JupyterHub can bring your compute resources and data to your users and groups with a powerful, familiar user experience."
   ]
  },
  {
   "cell_type": "markdown",
   "metadata": {},
   "source": [
    "# Frequently Asked Questions"
   ]
  },
  {
   "cell_type": "code",
   "execution_count": 4,
   "metadata": {},
   "outputs": [
    {
     "data": {
      "text/markdown": [
       "\n",
       "### Should I Participate?\n",
       "\n",
       "Atlanta Jupyter User Group Meeting are inclusive events for designers, developers, and scientists who:\n",
       "\n",
       "* Work with data.\n",
       "* Teach math, science, or engineering.\n",
       "* Publish, present, or share their work with others.  \n",
       "* Interested in open source software even in the slightest.\n",
       "\n",
       "### Why are there fees?\n",
       "\n",
       "Community doesn't mature properly with free events.  And hot krispy kreme donuts aren't free.\n",
       "    \n",
       "\n",
       "### Why is there an Atlanta Jupyter User's Group?\n",
       "\n",
       "Jupyter is a diverse piece of software that supplies value in different domains and programming languages.  The Atlanta Jupyter User Group Meeting uses Jupyter as a medium to bring people together and blend ideas across the diverse tecnology space in the Atlanta Metro region.\n",
       "\n",
       "### Can I Use Reuse This Source?\n",
       "\n",
       "This source code is intended to be a Jupyter notebook specific means of organizing events. After the first event, there will be a first a release of this tool; which will be used for the second event on Dec 16, 2017.\n"
      ],
      "text/plain": [
       "<IPython.core.display.Markdown object>"
      ]
     },
     "metadata": {},
     "output_type": "display_data"
    }
   ],
   "source": [
    "faq.md"
   ]
  },
  {
   "cell_type": "code",
   "execution_count": 5,
   "metadata": {},
   "outputs": [
    {
     "data": {
      "text/markdown": [
       "<style>\n",
       ".highlighter-rouge, code {display: none;}\n",
       ".markdown-body h1:first-child {\n",
       "    display: none;\n",
       "}\n",
       "</style>\n",
       "\n",
       "    !jupyter nbconvert --to markdown faq.ipynb\n",
       "    !jupyter nbconvert --to markdown --MarkdownExporter.exclude_input=True index.ipynb\n",
       "    !cp index.md readme.md"
      ],
      "text/plain": [
       "<IPython.core.display.Markdown object>"
      ]
     },
     "metadata": {},
     "output_type": "display_data"
    },
    {
     "name": "stdout",
     "output_type": "stream",
     "text": [
      "[NbConvertApp] Converting notebook faq.ipynb to markdown\n",
      "[NbConvertApp] Writing 1010 bytes to faq.md\n",
      "[NbConvertApp] Converting notebook index.ipynb to markdown\n",
      "[NbConvertApp] Writing 4295 bytes to index.md\n"
     ]
    }
   ],
   "source": [
    "<style>\n",
    ".highlighter-rouge, code {display: none;}\n",
    ".markdown-body h1:first-child {\n",
    "    display: none;\n",
    "}\n",
    "</style>\n",
    "\n",
    "    !jupyter nbconvert --to markdown faq.ipynb\n",
    "    !jupyter nbconvert --to markdown --MarkdownExporter.exclude_input=True index.ipynb\n",
    "    !cp index.md readme.md"
   ]
  },
  {
   "cell_type": "code",
   "execution_count": null,
   "metadata": {},
   "outputs": [],
   "source": []
  }
 ],
 "metadata": {
  "kernelspec": {
   "display_name": "Python 3",
   "language": "python",
   "name": "python3"
  },
  "language_info": {
   "codemirror_mode": {
    "name": "ipython",
    "version": 3
   },
   "file_extension": ".py",
   "mimetype": "text/x-python",
   "name": "python",
   "nbconvert_exporter": "python",
   "pygments_lexer": "ipython3",
   "version": "3.6.3"
  }
 },
 "nbformat": 4,
 "nbformat_minor": 2
}
