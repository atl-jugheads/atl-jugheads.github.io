{
 "cells": [
  {
   "cell_type": "markdown",
   "metadata": {},
   "source": [
    "# Callisto M☾rns\n",
    "\n",
    "Callisto M☾rns are local Atlanta conferences orbiting the [Project Jupyter](http://jupyter.org/).  These extremely afforable events will host 40-50 Jupyter users from the nearby Atlanta Metro Area.  They will attract designers, developers, and scientists solving problems in applications that include:\n",
    "\n",
    "- Education and training\n",
    "- Public health, medicine, and bioinformatics\n",
    "- Math, Science and, Engineering\n",
    "- Art, music, and making\n",
    "- Journalism, law, and policy\n",
    "- Visualization, UI, and UX"
   ]
  },
  {
   "cell_type": "markdown",
   "metadata": {},
   "source": [
    "---\n",
    "\n",
    "## Submit a [Call for Participation](https://docs.google.com/forms/d/e/1FAIpQLSfY1c4y2vLE-q3VMBjOpvTi4pK5D6Q9KudNk25AsxQUjsT3eA/viewform)\n",
    "\n",
    "Currently we are preparing for the [**premiere Callist☾ M☾rn on November 11, 2017 at Georgia Tech Research Institute**](https://callisto-morns.github.io/one/) from 9am to 1pm.  There is a call for a [Call for Participation](https://docs.google.com/forms/d/e/1FAIpQLSfY1c4y2vLE-q3VMBjOpvTi4pK5D6Q9KudNk25AsxQUjsT3eA/viewform).  We encourage anyone to submit their work as long as Project Jupyter plays a role."
   ]
  },
  {
   "cell_type": "markdown",
   "metadata": {},
   "source": [
    "---\n",
    "\n",
    "Be on the l👀k out for 🎟tickets🎟 in the new few weeks."
   ]
  },
  {
   "cell_type": "markdown",
   "metadata": {},
   "source": [
    "## Staying in touch\n",
    "\n",
    "[![Gitter chat](https://badges.gitter.im/callisto-one/Lobby.png)](https://gitter.im/callisto-one/Lobby)\n",
    "\n",
    "* Visit the the [Castill☾ M☾rns](https://callisto-morns.github.io/) site for updates.\n",
    "* [Ask questions!](https://github.com/callisto-morns/one/issues)\n",
    "* [Submit a talk.](https://docs.google.com/forms/d/e/1FAIpQLSfY1c4y2vLE-q3VMBjOpvTi4pK5D6Q9KudNk25AsxQUjsT3eA/viewform)"
   ]
  },
  {
   "cell_type": "markdown",
   "metadata": {},
   "source": [
    "---\n",
    "\n",
    "# Project Jupyter\n",
    "\n",
    "> \"Open source, interactive data science and scientific computing across over 40 programming languages\"\n",
    "> > jupyter.org\n",
    "\n",
    "Project Jupyter is all about bringing today’s best open source software to anyone that needs to work with data. You can try the Notebook, Jupyter's web-based exploratory computing environment, today through free online services like SageMathCloud[1] and Binder[2].  Or, Jupyter can be easily installed[3] on your personal Linux, OSX or Windows computer. If you support many users, JupyterHub[4] can bring your compute resources and data to your users and groups with a powerful, familiar user experience."
   ]
  },
  {
   "cell_type": "code",
   "execution_count": 13,
   "metadata": {},
   "outputs": [
    {
     "name": "stdout",
     "output_type": "stream",
     "text": [
      "[NbConvertApp] Converting notebook index.ipynb to markdown\r\n",
      "[NbConvertApp] Writing 3299 bytes to index.md\r\n",
      "[NbConvertApp] Converting notebook faq.ipynb to markdown\r\n",
      "[NbConvertApp] Writing 456 bytes to faq.md\r\n"
     ]
    },
    {
     "data": {
      "text/markdown": [
       "    !jupyter nbconvert --to markdown index.ipynb faq.ipynb\n",
       "    !cp index.md readme.md\n",
       "    %reload_ext literacy"
      ],
      "text/plain": [
       "<IPython.core.display.Markdown object>"
      ]
     },
     "metadata": {},
     "output_type": "display_data"
    },
    {
     "name": "stdout",
     "output_type": "stream",
     "text": [
      "[NbConvertApp] Converting notebook index.ipynb to markdown\r\n",
      "[NbConvertApp] Writing 3299 bytes to index.md\r\n",
      "[NbConvertApp] Converting notebook faq.ipynb to markdown\r\n",
      "[NbConvertApp] Writing 456 bytes to faq.md\r\n"
     ]
    }
   ],
   "source": [
    "    !jupyter nbconvert --to markdown index.ipynb faq.ipynb\n",
    "    !cp index.md readme.md\n",
    "    %reload_ext literacy"
   ]
  },
  {
   "cell_type": "markdown",
   "metadata": {},
   "source": [
    "# Frequently Asked Questions"
   ]
  },
  {
   "cell_type": "code",
   "execution_count": 14,
   "metadata": {},
   "outputs": [
    {
     "data": {
      "text/markdown": [
       "\n",
       "### Should I Participate?\n",
       "\n",
       "Callisto Morns are inclusive events for designers, developers, and scientists who:\n",
       "\n",
       "* Work with data.\n",
       "* Teach math, science, or engineering.\n",
       "* Publish, present, or share your work to others.  \n",
       "* Interested in open source software even in the slightest.\n",
       "    \n",
       "Callisto Day can show you a world of ways to explore and communicate the topics that are important to you, starting with nothing more than a web browser or text editor. \n"
      ],
      "text/plain": [
       "<IPython.core.display.Markdown object>"
      ]
     },
     "metadata": {},
     "output_type": "display_data"
    }
   ],
   "source": [
    "faq.md"
   ]
  },
  {
   "cell_type": "markdown",
   "metadata": {},
   "source": [
    "### Prior Events\n",
    "\n",
    "* [Jupyter Day Atlanta 2016](http://jupyterday-atlanta-2016.github.io)"
   ]
  },
  {
   "cell_type": "raw",
   "metadata": {},
   "source": [
    "<style>.highlighter-rouge, code {display: none;}</style>"
   ]
  }
 ],
 "metadata": {
  "kernelspec": {
   "display_name": "Python 3",
   "language": "python",
   "name": "python3"
  },
  "language_info": {
   "codemirror_mode": {
    "name": "ipython",
    "version": 3
   },
   "file_extension": ".py",
   "mimetype": "text/x-python",
   "name": "python",
   "nbconvert_exporter": "python",
   "pygments_lexer": "ipython3",
   "version": "3.5.3"
  }
 },
 "nbformat": 4,
 "nbformat_minor": 2
}
