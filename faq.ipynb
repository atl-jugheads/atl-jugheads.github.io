{
 "cells": [
  {
   "cell_type": "markdown",
   "metadata": {},
   "source": [
    "### Should I Participate?\n",
    "\n",
    "Atlanta Jupyter User Group Meeting are inclusive events for designers, developers, and scientists who:\n",
    "\n",
    "* Work with data.\n",
    "* Teach math, science, or engineering.\n",
    "* Publish, present, or share their work with others.  \n",
    "* Interested in open source software even in the slightest.\n",
    "\n",
    "### Why are there fees?\n",
    "\n",
    "Community doesn't mature properly with free events.  An hot krispy kreme donuts aren't free.\n",
    "    \n",
    "### Why is there an Atlanta Jupyter User's Group?\n",
    "\n",
    "Jupyter is a diverse piece of software that supplies value in different domains and programming languages.  The Atlanta Jupyter User Group Meeting uses Jupyter as a medium to bring people together and blend ideas across the diverse tecnology space in the Atlanta Metro region.\n",
    "\n",
    "### Can I Use Reuse This Source?\n",
    "\n",
    "This source code is intended to be a Jupyter notebook specific means of organizing events. After the first event, there will be a first a release of the this tool; which will be used for the second event on Dec 16, 2017."
   ]
  }
 ],
 "metadata": {
  "kernelspec": {
   "display_name": "Python 3",
   "language": "python",
   "name": "python3"
  },
  "language_info": {
   "codemirror_mode": {
    "name": "ipython",
    "version": 3
   },
   "file_extension": ".py",
   "mimetype": "text/x-python",
   "name": "python",
   "nbconvert_exporter": "python",
   "pygments_lexer": "ipython3",
   "version": "3.5.3"
  }
 },
 "nbformat": 4,
 "nbformat_minor": 2
}
