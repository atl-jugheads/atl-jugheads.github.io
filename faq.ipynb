{
 "cells": [
  {
   "cell_type": "markdown",
   "metadata": {},
   "source": [
    "### Should I Participate?\n",
    "\n",
    "Callisto Morns are inclusive events for designers, developers, and scientists who:\n",
    "\n",
    "* Work with data.\n",
    "* Teach math, science, or engineering.\n",
    "* Publish, present, or share their work with others.  \n",
    "* Interested in open source software even in the slightest.\n",
    "    \n",
    "Callisto Day can present a world of ways to explore and communicate the topics that are important to you, starting with nothing more than a web browser or text editor. "
   ]
  }
 ],
 "metadata": {
  "kernelspec": {
   "display_name": "Python 3",
   "language": "python",
   "name": "python3"
  },
  "language_info": {
   "codemirror_mode": {
    "name": "ipython",
    "version": 3
   },
   "file_extension": ".py",
   "mimetype": "text/x-python",
   "name": "python",
   "nbconvert_exporter": "python",
   "pygments_lexer": "ipython3",
   "version": "3.5.3"
  }
 },
 "nbformat": 4,
 "nbformat_minor": 2
}
